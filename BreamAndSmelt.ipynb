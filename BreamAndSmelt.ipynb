{
  "nbformat": 4,
  "nbformat_minor": 0,
  "metadata": {
    "colab": {
      "name": "BreamAndSmelt.ipynb",
      "provenance": [],
      "collapsed_sections": [
        "WD9QwvjA_Uuj",
        "tzu7ej2O_dt_",
        "iMg5dcoj_98i",
        "WvJS-s8XOS2B"
      ]
    },
    "kernelspec": {
      "name": "python3",
      "display_name": "Python 3"
    },
    "language_info": {
      "name": "python"
    }
  },
  "cells": [
    {
      "cell_type": "markdown",
      "source": [
        "# 도미 데이터 준비"
      ],
      "metadata": {
        "id": "WD9QwvjA_Uuj"
      }
    },
    {
      "cell_type": "markdown",
      "source": [
        "https://gist.github.com/rickiepark/b37d04a95a42ef6757e4a99214d61697"
      ],
      "metadata": {
        "id": "NwL7WlHA_Y4E"
      }
    },
    {
      "cell_type": "code",
      "execution_count": null,
      "metadata": {
        "id": "qHTsLDnj9AvG"
      },
      "outputs": [],
      "source": [
        "bream_length = [25.4, 26.3, 26.5, 29.0, 29.0, 29.7, 29.7, 30.0, 30.0, 30.7, 31.0, 31.0, \n",
        "                31.5, 32.0, 32.0, 32.0, 33.0, 33.0, 33.5, 33.5, 34.0, 34.0, 34.5, 35.0, \n",
        "                35.0, 35.0, 35.0, 36.0, 36.0, 37.0, 38.5, 38.5, 39.5, 41.0, 41.0]\n",
        "bream_weight = [242.0, 290.0, 340.0, 363.0, 430.0, 450.0, 500.0, 390.0, 450.0, 500.0, 475.0, 500.0, \n",
        "                500.0, 340.0, 600.0, 600.0, 700.0, 700.0, 610.0, 650.0, 575.0, 685.0, 620.0, 680.0, \n",
        "                700.0, 725.0, 720.0, 714.0, 850.0, 1000.0, 920.0, 955.0, 925.0, 975.0, 950.0]"
      ]
    },
    {
      "cell_type": "code",
      "source": [
        "import matplotlib.pyplot as plt\n",
        "\n",
        "plt.scatter(bream_length, bream_weight)\n",
        "plt.xlabel('length')\n",
        "plt.ylabel('weight')\n",
        "plt.show()"
      ],
      "metadata": {
        "colab": {
          "base_uri": "https://localhost:8080/",
          "height": 279
        },
        "id": "tOIDSQvT9aAi",
        "outputId": "9e4b1242-11d4-4493-8c96-0ebda16e5c4c"
      },
      "execution_count": null,
      "outputs": [
        {
          "output_type": "display_data",
          "data": {
            "text/plain": [
              "<Figure size 432x288 with 1 Axes>"
            ],
            "image/png": "[encoded data removed]"
          },
          "metadata": {
            "needs_background": "light"
          }
        }
      ]
    },
    {
      "cell_type": "markdown",
      "source": [
        "# 빙어 데이터 준비"
      ],
      "metadata": {
        "id": "tzu7ej2O_dt_"
      }
    },
    {
      "cell_type": "code",
      "source": [
        "smelt_length = [9.8, 10.5, 10.6, 11.0, 11.2, 11.3, 11.8, 11.8, 12.0, 12.2, 12.4, 13.0, 14.3, 15.0]\n",
        "smelt_weight = [6.7, 7.5, 7.0, 9.7, 9.8, 8.7, 10.0, 9.9, 9.8, 12.2, 13.4, 12.2, 19.7, 19.9]"
      ],
      "metadata": {
        "id": "PTaYSj5-9q3y"
      },
      "execution_count": null,
      "outputs": []
    },
    {
      "cell_type": "code",
      "source": [
        "plt.scatter(bream_length, bream_weight)\n",
        "plt.scatter(smelt_length, smelt_weight)\n",
        "plt.xlabel('length')\n",
        "plt.ylabel('weight')\n",
        "plt.show()"
      ],
      "metadata": {
        "colab": {
          "base_uri": "https://localhost:8080/",
          "height": 279
        },
        "id": "SKxqAbE1_mEL",
        "outputId": "aa892384-0514-43ec-93bb-3510b75b06c3"
      },
      "execution_count": null,
      "outputs": [
        {
          "output_type": "display_data",
          "data": {
            "text/plain": [
              "<Figure size 432x288 with 1 Axes>"
            ],
            "image/png": "[encoded data removed]"
          },
          "metadata": {
            "needs_background": "light"
          }
        }
      ]
    },
    {
      "cell_type": "markdown",
      "source": [
        "# k-최근접 이웃 알고리즘"
      ],
      "metadata": {
        "id": "iMg5dcoj_98i"
      }
    },
    {
      "cell_type": "code",
      "source": [
        "# 데이터 합치기\n",
        "length = bream_length + smelt_length\n",
        "weight = bream_weight + smelt_weight"
      ],
      "metadata": {
        "id": "bFjJQ0Ps_2yQ"
      },
      "execution_count": null,
      "outputs": []
    },
    {
      "cell_type": "code",
      "source": [
        "# 2차원 리스트\n",
        "fish_data = [[l,w] for l,w in zip(length, weight)]\n",
        "fish_data"
      ],
      "metadata": {
        "id": "OwBgGYckAR5r"
      },
      "execution_count": null,
      "outputs": []
    },
    {
      "cell_type": "code",
      "source": [
        "fish_target = [1] * 35 + [0]*14     # smelt:0, bream: 1\n",
        "print(fish_target)"
      ],
      "metadata": {
        "colab": {
          "base_uri": "https://localhost:8080/"
        },
        "id": "7dWZM-18AfV3",
        "outputId": "42a51aac-2287-4914-e198-c97669178dd8"
      },
      "execution_count": null,
      "outputs": [
        {
          "output_type": "stream",
          "name": "stdout",
          "text": [
            "[1, 1, 1, 1, 1, 1, 1, 1, 1, 1, 1, 1, 1, 1, 1, 1, 1, 1, 1, 1, 1, 1, 1, 1, 1, 1, 1, 1, 1, 1, 1, 1, 1, 1, 1, 0, 0, 0, 0, 0, 0, 0, 0, 0, 0, 0, 0, 0, 0]\n"
          ]
        }
      ]
    },
    {
      "cell_type": "code",
      "source": [
        "from sklearn.neighbors import KNeighborsClassifier\n",
        "kn = KNeighborsClassifier()"
      ],
      "metadata": {
        "id": "inu6pJEbA2HM"
      },
      "execution_count": null,
      "outputs": []
    },
    {
      "cell_type": "code",
      "source": [
        "kn.fit(fish_data, fish_target)\n",
        "kn.score(fish_data,fish_target)"
      ],
      "metadata": {
        "colab": {
          "base_uri": "https://localhost:8080/"
        },
        "id": "0Mrq74u5BH3S",
        "outputId": "106584a3-e275-47b1-9fde-9682c951389e"
      },
      "execution_count": null,
      "outputs": [
        {
          "output_type": "execute_result",
          "data": {
            "text/plain": [
              "1.0"
            ]
          },
          "metadata": {},
          "execution_count": 9
        }
      ]
    },
    {
      "cell_type": "code",
      "source": [
        "kn.predict([[30,600]])"
      ],
      "metadata": {
        "id": "wKRpI42cBWuS",
        "colab": {
          "base_uri": "https://localhost:8080/"
        },
        "outputId": "6edcd625-2203-447c-8df3-e6f2c89c9b31"
      },
      "execution_count": null,
      "outputs": [
        {
          "output_type": "execute_result",
          "data": {
            "text/plain": [
              "array([1])"
            ]
          },
          "metadata": {},
          "execution_count": 10
        }
      ]
    },
    {
      "cell_type": "code",
      "source": [
        "print(kn._fit_X)"
      ],
      "metadata": {
        "id": "Uw2rOP0sLurk",
        "colab": {
          "base_uri": "https://localhost:8080/"
        },
        "outputId": "e4515d60-9807-4915-970c-6267312290ad"
      },
      "execution_count": null,
      "outputs": [
        {
          "output_type": "stream",
          "name": "stdout",
          "text": [
            "[[  25.4  242. ]\n",
            " [  26.3  290. ]\n",
            " [  26.5  340. ]\n",
            " [  29.   363. ]\n",
            " [  29.   430. ]\n",
            " [  29.7  450. ]\n",
            " [  29.7  500. ]\n",
            " [  30.   390. ]\n",
            " [  30.   450. ]\n",
            " [  30.7  500. ]\n",
            " [  31.   475. ]\n",
            " [  31.   500. ]\n",
            " [  31.5  500. ]\n",
            " [  32.   340. ]\n",
            " [  32.   600. ]\n",
            " [  32.   600. ]\n",
            " [  33.   700. ]\n",
            " [  33.   700. ]\n",
            " [  33.5  610. ]\n",
            " [  33.5  650. ]\n",
            " [  34.   575. ]\n",
            " [  34.   685. ]\n",
            " [  34.5  620. ]\n",
            " [  35.   680. ]\n",
            " [  35.   700. ]\n",
            " [  35.   725. ]\n",
            " [  35.   720. ]\n",
            " [  36.   714. ]\n",
            " [  36.   850. ]\n",
            " [  37.  1000. ]\n",
            " [  38.5  920. ]\n",
            " [  38.5  955. ]\n",
            " [  39.5  925. ]\n",
            " [  41.   975. ]\n",
            " [  41.   950. ]\n",
            " [   9.8    6.7]\n",
            " [  10.5    7.5]\n",
            " [  10.6    7. ]\n",
            " [  11.     9.7]\n",
            " [  11.2    9.8]\n",
            " [  11.3    8.7]\n",
            " [  11.8   10. ]\n",
            " [  11.8    9.9]\n",
            " [  12.     9.8]\n",
            " [  12.2   12.2]\n",
            " [  12.4   13.4]\n",
            " [  13.    12.2]\n",
            " [  14.3   19.7]\n",
            " [  15.    19.9]]\n"
          ]
        }
      ]
    },
    {
      "cell_type": "code",
      "source": [
        "print(kn._y)"
      ],
      "metadata": {
        "colab": {
          "base_uri": "https://localhost:8080/"
        },
        "id": "HzFN1KAsLxCV",
        "outputId": "f9871bb3-5b16-43f9-925d-35da157e181e"
      },
      "execution_count": null,
      "outputs": [
        {
          "output_type": "stream",
          "name": "stdout",
          "text": [
            "[1 1 1 1 1 1 1 1 1 1 1 1 1 1 1 1 1 1 1 1 1 1 1 1 1 1 1 1 1 1 1 1 1 1 1 0 0\n",
            " 0 0 0 0 0 0 0 0 0 0 0 0]\n"
          ]
        }
      ]
    },
    {
      "cell_type": "code",
      "source": [
        "# 참고 데이터를 49개로 한 kn49 모델\n",
        "kn49 = KNeighborsClassifier(n_neighbors=49)"
      ],
      "metadata": {
        "id": "Xfn1Pfr-L02F"
      },
      "execution_count": null,
      "outputs": []
    },
    {
      "cell_type": "code",
      "source": [
        "kn49.fit(fish_data,fish_target)\n",
        "kn49.score(fish_data,fish_target)"
      ],
      "metadata": {
        "colab": {
          "base_uri": "https://localhost:8080/"
        },
        "id": "QJujz2x5MDsn",
        "outputId": "b04dbda7-ecac-4ab4-83a3-ce5d45dd2fce"
      },
      "execution_count": null,
      "outputs": [
        {
          "output_type": "execute_result",
          "data": {
            "text/plain": [
              "0.7142857142857143"
            ]
          },
          "metadata": {},
          "execution_count": 14
        }
      ]
    },
    {
      "cell_type": "code",
      "source": [
        "print(35/49)"
      ],
      "metadata": {
        "colab": {
          "base_uri": "https://localhost:8080/"
        },
        "id": "5_DsIPswMN_y",
        "outputId": "11caa302-cf63-476a-9838-a15f54347d82"
      },
      "execution_count": null,
      "outputs": [
        {
          "output_type": "stream",
          "name": "stdout",
          "text": [
            "0.7142857142857143\n"
          ]
        }
      ]
    },
    {
      "cell_type": "markdown",
      "source": [
        "(p.62) k-최근접 이웃 알고리즘은은 가장 간단한 머신러닝 알고리즘 중 하나입니다. 사실 어떤 규칙을 찾기보다는 전체 데이터를 메모리에 가지고 있는 것이 전부입니다."
      ],
      "metadata": {
        "id": "MYIFTEFXMeVR"
      }
    },
    {
      "cell_type": "markdown",
      "source": [
        "연습문제"
      ],
      "metadata": {
        "id": "NSFQgKXsOQC2"
      }
    },
    {
      "cell_type": "code",
      "source": [
        "kn = KNeighborsClassifier()\n",
        "kn.fit(fish_data, fish_target)\n",
        "\n",
        "for n in range(5,50):\n",
        "\n",
        "  # k-최근접 이웃 개수 설정\n",
        "  kn.n_neighbors = n\n",
        "  \n",
        "  # 점수 계산\n",
        "  score = kn.score(fish_data, fish_target)\n",
        "  \n",
        "  # 100% 정확도에 미치지 못하는 이웃 개수 출력\n",
        "  if score < 1:\n",
        "    print(n, score)\n",
        "    break"
      ],
      "metadata": {
        "colab": {
          "base_uri": "https://localhost:8080/"
        },
        "id": "22JH5IEvMUdA",
        "outputId": "14962ce6-b541-4fd4-cc37-8376e8e94591"
      },
      "execution_count": null,
      "outputs": [
        {
          "output_type": "stream",
          "name": "stdout",
          "text": [
            "18 0.9795918367346939\n"
          ]
        }
      ]
    },
    {
      "cell_type": "markdown",
      "source": [
        "# 데이터 다루기"
      ],
      "metadata": {
        "id": "WvJS-s8XOS2B"
      }
    },
    {
      "cell_type": "code",
      "source": [
        "print(fish_data[4])"
      ],
      "metadata": {
        "colab": {
          "base_uri": "https://localhost:8080/"
        },
        "id": "y_1N5TXVNfNh",
        "outputId": "4e276cc6-b928-4837-ccfe-25b398de7026"
      },
      "execution_count": null,
      "outputs": [
        {
          "output_type": "stream",
          "name": "stdout",
          "text": [
            "[29.0, 430.0]\n"
          ]
        }
      ]
    },
    {
      "cell_type": "code",
      "source": [
        "print(fish_data[:5])\n",
        "print(fish_data[44:])"
      ],
      "metadata": {
        "colab": {
          "base_uri": "https://localhost:8080/"
        },
        "id": "za9QVkfoOeVr",
        "outputId": "9d1aea08-263e-466b-9425-a602d0b221ae"
      },
      "execution_count": null,
      "outputs": [
        {
          "output_type": "stream",
          "name": "stdout",
          "text": [
            "[[25.4, 242.0], [26.3, 290.0], [26.5, 340.0], [29.0, 363.0], [29.0, 430.0]]\n",
            "[[12.2, 12.2], [12.4, 13.4], [13.0, 12.2], [14.3, 19.7], [15.0, 19.9]]\n"
          ]
        }
      ]
    },
    {
      "cell_type": "code",
      "source": [
        "# 훈련 세트로 입력값 중 0부터 34번째 인덱스까지 사용\n",
        "train_input = fish_data[:35]\n",
        "\n",
        "# 훈련 세트로 타깃값 중 0부터 34번째 인덱스까지 사용\n",
        "train_target = fish_target[:35]\n",
        "\n",
        "# 테스트 세트로 입력값 중 35번째부터 마지막 인덱스까지 사용\n",
        "test_input = fish_data[35:]\n",
        "\n",
        "# 테스트 세트로 타깃값 중 35번째부터 마지막 인덱스까지 사용\n",
        "test_target = fish_target[35:]"
      ],
      "metadata": {
        "id": "Y19fv-gDOhnc"
      },
      "execution_count": null,
      "outputs": []
    },
    {
      "cell_type": "code",
      "source": [
        "# fit, score\n",
        "kn = kn.fit(train_input, train_target)\n",
        "kn.score(test_input, test_target)"
      ],
      "metadata": {
        "colab": {
          "base_uri": "https://localhost:8080/"
        },
        "id": "_HsJ7T2zPInJ",
        "outputId": "5415925c-3e3b-4a7e-b980-1f3611c49616"
      },
      "execution_count": null,
      "outputs": [
        {
          "output_type": "execute_result",
          "data": {
            "text/plain": [
              "0.0"
            ]
          },
          "metadata": {},
          "execution_count": 20
        }
      ]
    },
    {
      "cell_type": "markdown",
      "source": [
        "![train_test_split.png](data:image/png;base64,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)"
      ],
      "metadata": {
        "id": "IelHFiWUPYUa"
      }
    },
    {
      "cell_type": "markdown",
      "source": [
        "샘플링 편향.\n",
        "\n",
        "train, test 나누기 전 데이터를 섞든지 아니면 골고루 샘플을 뽑아서 train set, test set 구성"
      ],
      "metadata": {
        "id": "wrhKeasnPowg"
      }
    },
    {
      "cell_type": "code",
      "source": [
        "import numpy as np\n",
        "\n",
        "input_arr = np.array(fish_data)\n",
        "target_arr = np.array(fish_target)"
      ],
      "metadata": {
        "id": "GnT9MW4jPS0t"
      },
      "execution_count": null,
      "outputs": []
    },
    {
      "cell_type": "code",
      "source": [
        "print(input_arr)\n",
        "print(input_arr.shape)"
      ],
      "metadata": {
        "id": "ukXJWgEzQPFX"
      },
      "execution_count": null,
      "outputs": []
    },
    {
      "cell_type": "markdown",
      "source": [
        "위에서 만든 배열에서 랜덤하게 샘플을 선택해 train set, test set 생성. 배열을 섞은 후에 나누는 방식 대신 무작위로 샘플을 고르는 방식."
      ],
      "metadata": {
        "id": "Rs6Se47WQrTa"
      }
    },
    {
      "cell_type": "code",
      "source": [
        "np.random.seed(49)\n",
        "index = np.arange(49)\n",
        "np.random.shuffle(index)\n",
        "print(index)"
      ],
      "metadata": {
        "colab": {
          "base_uri": "https://localhost:8080/"
        },
        "id": "rozhNuETQT8i",
        "outputId": "25f56163-9a92-4622-abfb-cb4c0ec838cc"
      },
      "execution_count": null,
      "outputs": [
        {
          "output_type": "stream",
          "name": "stdout",
          "text": [
            "[14 27 24 16 17 41  0 19 31  2 21 10 30 22 38 23 11 34 20  1 13  7 43 25\n",
            " 46  4  9 29  3  8 39 28 15 37 33  6 26 35 48 32 47 36 18 44  5 12 40 45\n",
            " 42]\n"
          ]
        }
      ]
    },
    {
      "cell_type": "markdown",
      "source": [
        "넘파이는 배열 인덱싱을 제공한다. 배열 인덱싱은 1개의 인덱스가 아닌 여러 개의 인덱스로 한 번에 여러 개의 원소를 선택할 수 있다."
      ],
      "metadata": {
        "id": "KhWI5DxvRTqI"
      }
    },
    {
      "cell_type": "code",
      "source": [
        "# 훈련 데이터 선택\n",
        "train_input = input_arr[index[:35]]\n",
        "train_target = target_arr[index[:35]]"
      ],
      "metadata": {
        "id": "8qHIaFQURL9k"
      },
      "execution_count": null,
      "outputs": []
    },
    {
      "cell_type": "code",
      "source": [
        "print(input_arr[14], train_input[0] )"
      ],
      "metadata": {
        "colab": {
          "base_uri": "https://localhost:8080/"
        },
        "id": "rnJF2op7RlCO",
        "outputId": "c38d331d-df9f-4a2f-eb03-34f7aba2d0e0"
      },
      "execution_count": null,
      "outputs": [
        {
          "output_type": "stream",
          "name": "stdout",
          "text": [
            "[ 32. 600.] [ 32. 600.]\n"
          ]
        }
      ]
    },
    {
      "cell_type": "code",
      "source": [
        "# 테스트 데이터 선택\n",
        "test_input = input_arr[index[35:]]\n",
        "test_target = target_arr[index[35:]]"
      ],
      "metadata": {
        "id": "URLlhFGCR1KC"
      },
      "execution_count": null,
      "outputs": []
    },
    {
      "cell_type": "code",
      "source": [
        "# import matplotlib.pyplot as plt\n",
        "plt.scatter(train_input[:,0],train_input[:,1])\n",
        "plt.scatter(test_input[:,0],test_input[:,1])\n",
        "plt.xlabel('length')\n",
        "plt.ylabel('weight')\n",
        "plt.show()"
      ],
      "metadata": {
        "colab": {
          "base_uri": "https://localhost:8080/",
          "height": 279
        },
        "id": "8HVx_dv2SF_L",
        "outputId": "16f0e989-0ed8-4598-8254-10bd91fb3249"
      },
      "execution_count": null,
      "outputs": [
        {
          "output_type": "display_data",
          "data": {
            "text/plain": [
              "<Figure size 432x288 with 1 Axes>"
            ],
            "image/png": "[encoded data removed]"
          },
          "metadata": {
            "needs_background": "light"
          }
        }
      ]
    },
    {
      "cell_type": "markdown",
      "source": [
        ""
      ],
      "metadata": {
        "id": "qrgNte-_SsLF"
      }
    },
    {
      "cell_type": "code",
      "source": [
        "kn_2 = KNeighborsClassifier()   # 이전에 생성한 kn 모델과 다름.\n",
        "\n",
        "kn_2 = kn_2.fit(train_input, train_target)\n",
        "kn_2.score(test_input, test_target)"
      ],
      "metadata": {
        "colab": {
          "base_uri": "https://localhost:8080/"
        },
        "id": "psVFAKsVSh_v",
        "outputId": "c48c035f-c603-4543-f197-1b6ff2015a9c"
      },
      "execution_count": null,
      "outputs": [
        {
          "output_type": "execute_result",
          "data": {
            "text/plain": [
              "1.0"
            ]
          },
          "metadata": {},
          "execution_count": 28
        }
      ]
    },
    {
      "cell_type": "code",
      "source": [
        "kn_2.predict(test_input)"
      ],
      "metadata": {
        "colab": {
          "base_uri": "https://localhost:8080/"
        },
        "id": "MGtKNbfNS4Cj",
        "outputId": "11b815a8-befc-4fc4-a7c5-699939749308"
      },
      "execution_count": null,
      "outputs": [
        {
          "output_type": "execute_result",
          "data": {
            "text/plain": [
              "array([1, 1, 0, 0, 1, 0, 0, 1, 0, 1, 1, 0, 0, 0])"
            ]
          },
          "metadata": {},
          "execution_count": 29
        }
      ]
    },
    {
      "cell_type": "code",
      "source": [
        "test_target"
      ],
      "metadata": {
        "colab": {
          "base_uri": "https://localhost:8080/"
        },
        "id": "Wr00g6V3TfDg",
        "outputId": "314c983d-0751-4607-9577-a8940355ef41"
      },
      "execution_count": null,
      "outputs": [
        {
          "output_type": "execute_result",
          "data": {
            "text/plain": [
              "array([1, 1, 0, 0, 1, 0, 0, 1, 0, 1, 1, 0, 0, 0])"
            ]
          },
          "metadata": {},
          "execution_count": 30
        }
      ]
    },
    {
      "cell_type": "markdown",
      "source": [
        "# 데이터 전처리"
      ],
      "metadata": {
        "id": "y7Fr6aYcTxtJ"
      }
    },
    {
      "cell_type": "code",
      "source": [
        "# fish_data 의 구성 방식 변경 \n",
        "\n",
        "fish_length = bream_length + smelt_length\n",
        "fish_weight = bream_weight + smelt_weight"
      ],
      "metadata": {
        "id": "RxGUY1Y8TgaM"
      },
      "execution_count": null,
      "outputs": []
    },
    {
      "cell_type": "code",
      "source": [
        "# import numpy as np\n",
        "np.column_stack(([1,2,3],[4,5,6]))"
      ],
      "metadata": {
        "colab": {
          "base_uri": "https://localhost:8080/"
        },
        "id": "bzLhYWCiT-ks",
        "outputId": "43cf7aef-8ceb-4934-a5e5-c1abd4029885"
      },
      "execution_count": null,
      "outputs": [
        {
          "output_type": "execute_result",
          "data": {
            "text/plain": [
              "array([[1, 4],\n",
              "       [2, 5],\n",
              "       [3, 6]])"
            ]
          },
          "metadata": {},
          "execution_count": 66
        }
      ]
    },
    {
      "cell_type": "code",
      "source": [
        "fish_data = np.column_stack((fish_length, fish_weight))\n",
        "print(fish_data[:5])"
      ],
      "metadata": {
        "colab": {
          "base_uri": "https://localhost:8080/"
        },
        "id": "uunUcqatVF35",
        "outputId": "5c18ec62-6f94-4857-8d01-bba57160bf4e"
      },
      "execution_count": null,
      "outputs": [
        {
          "output_type": "stream",
          "name": "stdout",
          "text": [
            "[[ 25.4 242. ]\n",
            " [ 26.3 290. ]\n",
            " [ 26.5 340. ]\n",
            " [ 29.  363. ]\n",
            " [ 29.  430. ]]\n"
          ]
        }
      ]
    },
    {
      "cell_type": "markdown",
      "source": [
        "np.ones(), np.zeros()"
      ],
      "metadata": {
        "id": "XgGJoq2dVuMy"
      }
    },
    {
      "cell_type": "markdown",
      "source": [
        "![np_func.png](data:image/png;base64,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)"
      ],
      "metadata": {
        "id": "bJcayBssVuSy"
      }
    },
    {
      "cell_type": "markdown",
      "source": [
        "np.concatenate() 함수는 첫 번째 차원의 배열을 따라 배열을 연결한다."
      ],
      "metadata": {
        "id": "dX9bXmwhWHGx"
      }
    },
    {
      "cell_type": "code",
      "source": [
        "fish_target = np.concatenate((np.ones(35), np.zeros(14)))\n",
        "print(fish_target)\n",
        "print(fish_target.shape)"
      ],
      "metadata": {
        "colab": {
          "base_uri": "https://localhost:8080/"
        },
        "id": "1xED6VhPVXv9",
        "outputId": "5c79fbbc-7d53-4f61-e95b-be80079b8bcc"
      },
      "execution_count": null,
      "outputs": [
        {
          "output_type": "stream",
          "name": "stdout",
          "text": [
            "[1. 1. 1. 1. 1. 1. 1. 1. 1. 1. 1. 1. 1. 1. 1. 1. 1. 1. 1. 1. 1. 1. 1. 1.\n",
            " 1. 1. 1. 1. 1. 1. 1. 1. 1. 1. 1. 0. 0. 0. 0. 0. 0. 0. 0. 0. 0. 0. 0. 0.\n",
            " 0.]\n",
            "(49,)\n"
          ]
        }
      ]
    },
    {
      "cell_type": "markdown",
      "source": [
        "데이터가 클수록 파이썬 리스트는 비효율적이므로 넘파이 배열을 사용하는게 좋다."
      ],
      "metadata": {
        "id": "NY8302shWoF3"
      }
    },
    {
      "cell_type": "markdown",
      "source": [
        "\n",
        "## 사이킷런으로 훈련 세트와 테스트 세트 나누기"
      ],
      "metadata": {
        "id": "vVgTJNqWWysC"
      }
    },
    {
      "cell_type": "markdown",
      "source": [
        "넘파이 배열의 인덱스를 직접 섞어서 훈련 세트, 테스트 세트를 나누는 것이 아닌 사이킷런 train_test_split() 함수 사용.\n",
        "\n",
        "전달되는 리스트나 배열을 비율에 맞게 훈련 세트와 테스트 세트로 나눠주며 나누기 전에 shuffle이 된다."
      ],
      "metadata": {
        "id": "KHhfstK-W5Sl"
      }
    },
    {
      "cell_type": "code",
      "source": [
        "from sklearn.model_selection import train_test_split"
      ],
      "metadata": {
        "id": "HLksW90YWWvu"
      },
      "execution_count": null,
      "outputs": []
    },
    {
      "cell_type": "code",
      "source": [
        "train_input, test_input, train_target, test_target = train_test_split(\n",
        "    fish_data, fish_target, random_state=42\n",
        ")"
      ],
      "metadata": {
        "id": "9P72hNGYXZ08"
      },
      "execution_count": null,
      "outputs": []
    },
    {
      "cell_type": "markdown",
      "source": [
        "train_test_split() 함수는 기본적으로 25%를 테스트 세트로 떼어 낸다."
      ],
      "metadata": {
        "id": "O-25Rq88Xy_X"
      }
    },
    {
      "cell_type": "code",
      "source": [
        "print(train_input.shape, test_input.shape)\n",
        "print(train_target.shape, test_target.shape)"
      ],
      "metadata": {
        "colab": {
          "base_uri": "https://localhost:8080/"
        },
        "id": "EnnF8dwxXmlu",
        "outputId": "08f63d6a-77fa-483f-f300-f96203a03b77"
      },
      "execution_count": null,
      "outputs": [
        {
          "output_type": "stream",
          "name": "stdout",
          "text": [
            "(36, 2) (13, 2)\n",
            "(36,) (13,)\n"
          ]
        }
      ]
    },
    {
      "cell_type": "markdown",
      "source": [
        "넘파이 배열의 크기는 파이썬의 튜플로 표현된다. 튜플의 원소가 하나면 원소 뒤에 콤마를 추가한다. 위 예제에서 타깃 데이터는 1차원 배열이므로 원소가 하나인 튜플로 표현된다."
      ],
      "metadata": {
        "id": "LMrhuxxRYHP5"
      }
    },
    {
      "cell_type": "code",
      "source": [
        "print(test_target)"
      ],
      "metadata": {
        "colab": {
          "base_uri": "https://localhost:8080/"
        },
        "id": "1mAg4oHnX-Qs",
        "outputId": "beb2e0d1-f77a-42a3-f59d-def1eca7fc0d"
      },
      "execution_count": null,
      "outputs": [
        {
          "output_type": "stream",
          "name": "stdout",
          "text": [
            "[1. 0. 0. 0. 1. 1. 1. 1. 1. 1. 1. 1. 1.]\n"
          ]
        }
      ]
    },
    {
      "cell_type": "markdown",
      "source": [
        "무작위로 데이터를 나누었을 때 샘플이 골고루 섞이지 않을 수 있다. 특히 일부 클래스의 개수가 적을 때 이런 일이 생길 수 있다. 훈련 세트와 테스트 세트에 샘플의 클래스 비율이 일정하지 않다면 모델이 일부 샘플을 올바르게 학습할 수 없을 것이다.\n",
        "\n",
        "train_test_split() 함수는 stratify 매개변수에 타깃 데이터를 전달하면 클래스 비율에 맞게 데이터를 나눠준다. "
      ],
      "metadata": {
        "id": "WFh3kZx-dvV0"
      }
    },
    {
      "cell_type": "code",
      "source": [
        "train_input, test_input, train_target, test_target = train_test_split(\n",
        "    fish_data, fish_target, stratify=fish_target, random_state=42\n",
        ")"
      ],
      "metadata": {
        "id": "qJ745-2sYYcF"
      },
      "execution_count": null,
      "outputs": []
    },
    {
      "cell_type": "code",
      "source": [
        "print(test_target)"
      ],
      "metadata": {
        "colab": {
          "base_uri": "https://localhost:8080/"
        },
        "id": "wSFYlmAKeOrk",
        "outputId": "23aa1354-fdbe-48b2-d30a-a43f77a56633"
      },
      "execution_count": null,
      "outputs": [
        {
          "output_type": "stream",
          "name": "stdout",
          "text": [
            "[0. 0. 1. 0. 1. 0. 1. 1. 1. 1. 1. 1. 1.]\n"
          ]
        }
      ]
    },
    {
      "cell_type": "code",
      "source": [
        "from sklearn.neighbors import KNeighborsClassifier\n",
        "kn = KNeighborsClassifier()\n",
        "kn.fit(train_input, train_target)\n",
        "kn.score(test_input, test_target)"
      ],
      "metadata": {
        "colab": {
          "base_uri": "https://localhost:8080/"
        },
        "id": "VAp2Aop3eRuu",
        "outputId": "06cee735-9d1d-4e58-f808-aff209b9e9a2"
      },
      "execution_count": null,
      "outputs": [
        {
          "output_type": "execute_result",
          "data": {
            "text/plain": [
              "1.0"
            ]
          },
          "metadata": {},
          "execution_count": 75
        }
      ]
    },
    {
      "cell_type": "code",
      "source": [
        "# import matplotlib.pyplot as plt\n",
        "plt.scatter(train_input[:,0], train_input[:,1])\n",
        "plt.scatter(25, 150, marker='^')    # marker '^'는 삼각형 모양 지정.\n",
        "plt.xlabel('length')\n",
        "plt.ylabel('weight')\n",
        "plt.show()"
      ],
      "metadata": {
        "colab": {
          "base_uri": "https://localhost:8080/",
          "height": 279
        },
        "id": "BV3ek_p_fQ4v",
        "outputId": "a2c3c676-5016-412e-fd52-90e8ee9d828b"
      },
      "execution_count": null,
      "outputs": [
        {
          "output_type": "display_data",
          "data": {
            "text/plain": [
              "<Figure size 432x288 with 1 Axes>"
            ],
            "image/png": "[encoded data removed]"
          },
          "metadata": {
            "needs_background": "light"
          }
        }
      ]
    },
    {
      "cell_type": "markdown",
      "source": [
        "위의 삼각형으로 표시된 샘플은 분명히 오른쪽 위로 뻗어 있는 다른 도미 데이터에 더 가깝다. 왜 이 모델은 왼쪽 아래에 낮게 깔린 빙어 데이터에 가깝다고 판단한 걸까?\n",
        "\n"
      ],
      "metadata": {
        "id": "usJYI5Y0glZs"
      }
    },
    {
      "cell_type": "code",
      "source": [
        "distances, indexes = kn.kneighbors([[25,150]])"
      ],
      "metadata": {
        "id": "W2j6ORLrfp0G"
      },
      "execution_count": null,
      "outputs": []
    },
    {
      "cell_type": "code",
      "source": [
        "# import matplotlib.pyplot as plt\n",
        "plt.scatter(train_input[:,0], train_input[:,1])\n",
        "plt.scatter(25, 150, marker='^')    # marker '^'는 삼각형 모양 지정.\n",
        "plt.scatter(train_input[indexes, 0], train_input[indexes,1], marker='D')\n",
        "plt.xlabel('length')\n",
        "plt.ylabel('weight')\n",
        "plt.show()"
      ],
      "metadata": {
        "colab": {
          "base_uri": "https://localhost:8080/",
          "height": 279
        },
        "id": "V86p0xUshG6G",
        "outputId": "2a48e2ad-c022-46da-c160-eecedcd50ac6"
      },
      "execution_count": null,
      "outputs": [
        {
          "output_type": "display_data",
          "data": {
            "text/plain": [
              "<Figure size 432x288 with 1 Axes>"
            ],
            "image/png": "[encoded data removed]"
          },
          "metadata": {
            "needs_background": "light"
          }
        }
      ]
    },
    {
      "cell_type": "markdown",
      "source": [
        "가까운 5개의 샘플 중 빙어의 개수가 훨씬 많다."
      ],
      "metadata": {
        "id": "qJPCselRiIcz"
      }
    },
    {
      "cell_type": "code",
      "source": [
        "print(train_input[indexes])   # 구체적인 샘플 값 확인\n",
        "print(train_target[indexes])"
      ],
      "metadata": {
        "colab": {
          "base_uri": "https://localhost:8080/"
        },
        "id": "xqgYMrgHheNP",
        "outputId": "95508fc2-fc79-40d1-991a-72f813c3f765"
      },
      "execution_count": null,
      "outputs": [
        {
          "output_type": "stream",
          "name": "stdout",
          "text": [
            "[[[ 25.4 242. ]\n",
            "  [ 15.   19.9]\n",
            "  [ 14.3  19.7]\n",
            "  [ 13.   12.2]\n",
            "  [ 12.2  12.2]]]\n",
            "[[1. 0. 0. 0. 0.]]\n"
          ]
        }
      ]
    },
    {
      "cell_type": "code",
      "source": [
        "print(distances)    # 샘플들과의 거리"
      ],
      "metadata": {
        "colab": {
          "base_uri": "https://localhost:8080/"
        },
        "id": "GD9t8aMViFim",
        "outputId": "ede92b14-f3c4-4b89-81ec-415661da3584"
      },
      "execution_count": null,
      "outputs": [
        {
          "output_type": "stream",
          "name": "stdout",
          "text": [
            "[[ 92.00086956 130.48375378 130.73859415 138.32150953 138.39320793]]\n"
          ]
        }
      ]
    },
    {
      "cell_type": "markdown",
      "source": [
        "## 기준을 다시 맞춰라"
      ],
      "metadata": {
        "id": "pzdMWFFlizWP"
      }
    },
    {
      "cell_type": "markdown",
      "source": [
        "가장 가까운 상위 2개의 "
      ],
      "metadata": {
        "id": "SsAYU9j_ja-X"
      }
    },
    {
      "cell_type": "code",
      "source": [
        "plt.scatter(train_input[:,0], train_input[:,1])\n",
        "plt.scatter(25, 150, marker='^')    # marker '^'는 삼각형 모양 지정.\n",
        "plt.scatter(train_input[indexes, 0], train_input[indexes,1], marker='D')\n",
        "plt.xlim((0,1000))\n",
        "plt.xlabel('length')\n",
        "plt.ylabel('weight')\n",
        "plt.show()"
      ],
      "metadata": {
        "colab": {
          "base_uri": "https://localhost:8080/",
          "height": 279
        },
        "id": "TjeUTTc0icme",
        "outputId": "33536cf0-a0d2-4161-add4-3cbb8e341ccf"
      },
      "execution_count": null,
      "outputs": [
        {
          "output_type": "display_data",
          "data": {
            "text/plain": [
              "<Figure size 432x288 with 1 Axes>"
            ],
            "image/png": "[encoded data removed]"
          },
          "metadata": {
            "needs_background": "light"
          }
        }
      ]
    },
    {
      "cell_type": "markdown",
      "source": [
        "데이터를 표현하는 기준이 다르면 알고리즘이 올바르게 예측할 수 없다. 알고리즘이 거리 기반일 때 특히 그렇다. 이런 알고리즘들은 샘플 간의 거리에 영향을 많이 받으므로 제대로 사용하려면 특성값을 일정한 기준으로 맞춰 주어야 한다. "
      ],
      "metadata": {
        "id": "4KAr0dt9jrVb"
      }
    },
    {
      "cell_type": "markdown",
      "source": [
        "가장 널리 사용하는 전처리 방법 중 하나는 표준점수(standard score) 이다. 표준점수는 각 특성값이 평균에서 표준편차의 몇 배만큼 떨어져 있는지를 나타낸다. 이를 통해 실제 특성값의 크기와 상관없이 동일한 조건으로 비교할 수 있다."
      ],
      "metadata": {
        "id": "THxIQnwFj_k2"
      }
    },
    {
      "cell_type": "code",
      "source": [
        "mean = np.mean(train_input, axis=0) # 행 기준 열 값 계산\n",
        "std = np.std(train_input, axis=0)\n",
        "print(mean, std)"
      ],
      "metadata": {
        "colab": {
          "base_uri": "https://localhost:8080/"
        },
        "id": "OqGU39p8jWND",
        "outputId": "5759337b-448b-40f4-e1d0-83e4589a2cfb"
      },
      "execution_count": null,
      "outputs": [
        {
          "output_type": "stream",
          "name": "stdout",
          "text": [
            "[ 27.29722222 454.09722222] [  9.98244253 323.29893931]\n"
          ]
        }
      ]
    },
    {
      "cell_type": "code",
      "source": [
        "# 표준점수로 변환\n",
        "train_scaled = (train_input - mean) / std"
      ],
      "metadata": {
        "id": "AJas5HnjkWgD"
      },
      "execution_count": null,
      "outputs": []
    },
    {
      "cell_type": "markdown",
      "source": [
        "위의 식은 넘파이 기능 '브로드캐스팅'을 사용."
      ],
      "metadata": {
        "id": "P5hd42XIk0E7"
      }
    },
    {
      "cell_type": "markdown",
      "source": [
        "## 전처리 데이터로 모델 훈련하기"
      ],
      "metadata": {
        "id": "J8qQcKdRk9IS"
      }
    },
    {
      "cell_type": "code",
      "source": [
        "plt.scatter(train_scaled[:,0], train_scaled[:,1])\n",
        "plt.scatter(25, 150, marker='^')    # marker '^'는 삼각형 모양 지정.\n",
        "plt.xlabel('length')\n",
        "plt.ylabel('weight')\n",
        "plt.show()"
      ],
      "metadata": {
        "colab": {
          "base_uri": "https://localhost:8080/",
          "height": 279
        },
        "id": "yBBIeZxSkxvy",
        "outputId": "bea6b5c3-625d-454b-a8ea-76aac147cee1"
      },
      "execution_count": null,
      "outputs": [
        {
          "output_type": "display_data",
          "data": {
            "text/plain": [
              "<Figure size 432x288 with 1 Axes>"
            ],
            "image/png": "[encoded data removed]"
          },
          "metadata": {
            "needs_background": "light"
          }
        }
      ]
    },
    {
      "cell_type": "code",
      "source": [
        "new = ([25, 150] - mean) / std\n",
        "plt.scatter(train_scaled[:,0], train_scaled[:,1])\n",
        "plt.scatter(new[0], new[1], marker='^')    # marker '^'는 삼각형 모양 지정.\n",
        "plt.xlabel('length')\n",
        "plt.ylabel('weight')\n",
        "plt.show()"
      ],
      "metadata": {
        "colab": {
          "base_uri": "https://localhost:8080/",
          "height": 279
        },
        "id": "2BlEGBFnlGnH",
        "outputId": "4c45fcbf-ef14-45cc-93ec-1264df482f28"
      },
      "execution_count": null,
      "outputs": [
        {
          "output_type": "display_data",
          "data": {
            "text/plain": [
              "<Figure size 432x288 with 1 Axes>"
            ],
            "image/png": "[encoded data removed]"
          },
          "metadata": {
            "needs_background": "light"
          }
        }
      ]
    },
    {
      "cell_type": "code",
      "source": [
        "kn.fit(train_scaled, train_target)"
      ],
      "metadata": {
        "colab": {
          "base_uri": "https://localhost:8080/"
        },
        "id": "9TLgc9iwlqiC",
        "outputId": "53750071-e19f-4faa-c163-b58a96bdac5a"
      },
      "execution_count": null,
      "outputs": [
        {
          "output_type": "execute_result",
          "data": {
            "text/plain": [
              "KNeighborsClassifier()"
            ]
          },
          "metadata": {},
          "execution_count": 88
        }
      ]
    },
    {
      "cell_type": "code",
      "source": [
        "# test data 스케일 변환\n",
        "test_scaled = (test_input - mean) / std\n",
        "kn.score(test_scaled, test_target)"
      ],
      "metadata": {
        "colab": {
          "base_uri": "https://localhost:8080/"
        },
        "id": "dd_JLmj_lxR4",
        "outputId": "2c1e037a-f1a8-4a3b-c043-a1ba756643ac"
      },
      "execution_count": null,
      "outputs": [
        {
          "output_type": "execute_result",
          "data": {
            "text/plain": [
              "1.0"
            ]
          },
          "metadata": {},
          "execution_count": 90
        }
      ]
    },
    {
      "cell_type": "code",
      "source": [
        "print(kn.predict([new]))"
      ],
      "metadata": {
        "colab": {
          "base_uri": "https://localhost:8080/"
        },
        "id": "0KtzemhOl-Cb",
        "outputId": "f90e53ee-1f92-471c-cf3f-5a4bbe380781"
      },
      "execution_count": null,
      "outputs": [
        {
          "output_type": "stream",
          "name": "stdout",
          "text": [
            "[1.]\n"
          ]
        }
      ]
    },
    {
      "cell_type": "code",
      "source": [
        "distances, indexes = kn.kneighbors([new])\n",
        "plt.scatter(train_scaled[:,0], train_scaled[:,1])\n",
        "plt.scatter(new[0], new[1], marker='^')    # marker '^'는 삼각형 모양 지정.\n",
        "plt.scatter(train_scaled[indexes,0], train_scaled[indexes, 1], marker='D')\n",
        "plt.xlabel('length')\n",
        "plt.ylabel('weight')\n",
        "plt.show()"
      ],
      "metadata": {
        "colab": {
          "base_uri": "https://localhost:8080/",
          "height": 279
        },
        "id": "BoW0LrhlmH8N",
        "outputId": "719c8b00-9d91-4942-fa06-d97aeb98210d"
      },
      "execution_count": null,
      "outputs": [
        {
          "output_type": "display_data",
          "data": {
            "text/plain": [
              "<Figure size 432x288 with 1 Axes>"
            ],
            "image/png": "[encoded data removed]"
          },
          "metadata": {
            "needs_background": "light"
          }
        }
      ]
    },
    {
      "cell_type": "markdown",
      "source": [
        "가장 가까운 상위 5개의 샘플 모두 '도미' 클래스에 속함을 확인할 수 있다."
      ],
      "metadata": {
        "id": "MEgyK7MHmXyz"
      }
    },
    {
      "cell_type": "code",
      "source": [
        ""
      ],
      "metadata": {
        "id": "tzmTR4LSmUVu"
      },
      "execution_count": null,
      "outputs": []
    }
  ]
}